{
 "cells": [
  {
   "cell_type": "markdown",
   "metadata": {},
   "source": [
    "# Load data into Data frames"
   ]
  },
  {
   "cell_type": "code",
   "execution_count": 3,
   "metadata": {
    "collapsed": true
   },
   "outputs": [],
   "source": [
    "import os\n",
    "import pandas as pd\n",
    "from pyspark import SparkContext,SparkConf\n",
    "from pyspark.sql import SQLContext\n",
    "from pyspark.sql.functions import desc,col,sum\n",
    "from pyspark.sql import *\n",
    "import logging"
   ]
  },
  {
   "cell_type": "code",
   "execution_count": 6,
   "metadata": {},
   "outputs": [],
   "source": [
    "logger=logging.getLogger(__name__)\n",
    "logger.setLevel(logging.INFO)\n",
    "formatter=logging.Formatter('%(asctime)s:%(created)f:%(filename)s:%(message)s:%(message)s')\n",
    "file_handler=logging.FileHandler('assignment6.log')\n",
    "file_handler.setLevel(logging.INFO)\n",
    "file_handler.setFormatter(formatter)"
   ]
  },
  {
   "cell_type": "code",
   "execution_count": null,
   "metadata": {
    "collapsed": true
   },
   "outputs": [],
   "source": [
    "logger=logging.getLogger(__name__)"
   ]
  },
  {
   "cell_type": "code",
   "execution_count": 3,
   "metadata": {
    "collapsed": true
   },
   "outputs": [],
   "source": [
    "conf=SparkConf().setAppName('assessment_6a')\n",
    "sc=SparkContext(conf=conf)"
   ]
  },
  {
   "cell_type": "code",
   "execution_count": 4,
   "metadata": {
    "collapsed": true
   },
   "outputs": [],
   "source": [
    "sql=SQLContext(sc)"
   ]
  },
  {
   "cell_type": "markdown",
   "metadata": {},
   "source": [
    "# loading csv files onto spark dataframe"
   ]
  },
  {
   "cell_type": "code",
   "execution_count": 5,
   "metadata": {
    "collapsed": true
   },
   "outputs": [],
   "source": [
    "orders=sql.read.options(header=True,inferschema=True).csv('orders.csv')"
   ]
  },
  {
   "cell_type": "code",
   "execution_count": 6,
   "metadata": {
    "collapsed": true
   },
   "outputs": [],
   "source": [
    "departments=sql.read.options(header=True,inferschema=True).csv('departments.csv')"
   ]
  },
  {
   "cell_type": "code",
   "execution_count": 8,
   "metadata": {
    "collapsed": true
   },
   "outputs": [],
   "source": [
    "products=sql.read.options(header=True,inferschema=True).csv('products.csv')"
   ]
  },
  {
   "cell_type": "code",
   "execution_count": 9,
   "metadata": {
    "collapsed": true
   },
   "outputs": [],
   "source": [
    "aisles=sql.read.options(header=True,inferschema=True).csv('aisles.csv')"
   ]
  },
  {
   "cell_type": "code",
   "execution_count": 10,
   "metadata": {
    "collapsed": true
   },
   "outputs": [],
   "source": [
    "train=sql.read.options(header=True,inferschema=True).csv('order_products__train.csv')"
   ]
  },
  {
   "cell_type": "markdown",
   "metadata": {},
   "source": [
    "# Another method to read csv into Sparkdataframe-use pandas to read the file and then load in onto sparkdataframe"
   ]
  },
  {
   "cell_type": "code",
   "execution_count": 26,
   "metadata": {
    "collapsed": true
   },
   "outputs": [],
   "source": [
    "two=pd.read_csv('/mnt/home/edureka_37986/aisles.csv')\n",
    "one=pd.read_csv('/mnt/home/edureka_37986/orders.csv')\n",
    "three=pd.read_csv('/mnt/home/edureka_37986/departments.csv')\n",
    "four=pd.read_csv('/mnt/home/edureka_37986/products.csv')\n",
    "six=pd.read_csv('/mnt/home/edureka_37986/order_products__train.csv')\n",
    "five=pd.read_csv('/mnt/home/edureka_37986/order_products__prior.csv')"
   ]
  },
  {
   "cell_type": "markdown",
   "metadata": {
    "collapsed": true
   },
   "source": [
    "# Move python dataframes to pyspark dataframe"
   ]
  },
  {
   "cell_type": "code",
   "execution_count": 27,
   "metadata": {
    "collapsed": true
   },
   "outputs": [],
   "source": [
    "aisles_a=sql.createDataFrame(two)\n",
    "orders_df=sql.createDataFrame(one)\n",
    "departments=sql.createDataFrame(three)\n",
    "products=sql.createDataFrame(four)\n",
    "prior=sql.createDataFrame(five)\n",
    "train_df=sql.createDataFrame(six)"
   ]
  },
  {
   "cell_type": "code",
   "execution_count": 11,
   "metadata": {
    "collapsed": true
   },
   "outputs": [],
   "source": [
    "final=orders.alias('a').join(train.alias('b'),on=[\"order_id\"],how='left_outer').select('a.*','b.product_id','b.add_to_cart_order','b.reordered')            "
   ]
  },
  {
   "cell_type": "code",
   "execution_count": 12,
   "metadata": {
    "collapsed": true
   },
   "outputs": [],
   "source": [
    "final2=final.alias('a').join(products.alias('b'),on=[\"product_id\"],how='left_outer').select('a.*','b.product_name','b.aisle_id','b.department_id')"
   ]
  },
  {
   "cell_type": "code",
   "execution_count": 13,
   "metadata": {
    "collapsed": true
   },
   "outputs": [],
   "source": [
    "final3=final2.alias('a').join(departments.alias('b'),on=[\"department_id\"],how='left_outer').select('a.*','b.department')"
   ]
  },
  {
   "cell_type": "code",
   "execution_count": 14,
   "metadata": {
    "collapsed": true
   },
   "outputs": [],
   "source": [
    "final4=final3.alias('a').join(aisles.alias('b'),on=[\"aisle_id\"],how='left_outer').select('a.*','b.aisle')"
   ]
  },
  {
   "cell_type": "markdown",
   "metadata": {},
   "source": [
    "# register the final dataframe as a temp table"
   ]
  },
  {
   "cell_type": "code",
   "execution_count": 15,
   "metadata": {
    "collapsed": true
   },
   "outputs": [],
   "source": [
    "final4.registerTempTable('hey')"
   ]
  },
  {
   "cell_type": "markdown",
   "metadata": {},
   "source": [
    "#order_number,reordered,product_name,department,aisle,order_hour_of_day"
   ]
  },
  {
   "cell_type": "markdown",
   "metadata": {},
   "source": [
    "# Most re-ordered products"
   ]
  },
  {
   "cell_type": "code",
   "execution_count": 16,
   "metadata": {},
   "outputs": [
    {
     "name": "stdout",
     "output_type": "stream",
     "text": [
      "+--------------------+---------------+\n",
      "|        product_name|Reordered_count|\n",
      "+--------------------+---------------+\n",
      "|              Banana|          16557|\n",
      "|Bag of Organic Ba...|          13362|\n",
      "|Organic Strawberries|           8603|\n",
      "|Organic Baby Spinach|           8055|\n",
      "|     Organic Avocado|           6226|\n",
      "|Organic Hass Avocado|           6042|\n",
      "|         Large Lemon|           5923|\n",
      "|        Strawberries|           4786|\n",
      "| Organic Raspberries|           4279|\n",
      "|               Limes|           4234|\n",
      "+--------------------+---------------+\n",
      "only showing top 10 rows\n",
      "\n"
     ]
    }
   ],
   "source": [
    "t=sql.sql('select product_name,sum(reordered) as Reordered_count from hey group by 1 order by Reordered_count desc ')"
   ]
  },
  {
   "cell_type": "code",
   "execution_count": null,
   "metadata": {
    "collapsed": true
   },
   "outputs": [],
   "source": [
    "logger.info(t)"
   ]
  },
  {
   "cell_type": "markdown",
   "metadata": {
    "collapsed": true
   },
   "source": [
    "# Most important department and aisle (by number of products) "
   ]
  },
  {
   "cell_type": "code",
   "execution_count": 17,
   "metadata": {},
   "outputs": [
    {
     "name": "stdout",
     "output_type": "stream",
     "text": [
      "+----------+--------------------+--------------+\n",
      "|department|               aisle|distinct_count|\n",
      "+----------+--------------------+--------------+\n",
      "|      null|                null|             0|\n",
      "|   alcohol|       beers coolers|           225|\n",
      "|   alcohol|           red wines|           143|\n",
      "|   alcohol|specialty wines c...|            56|\n",
      "|   alcohol|             spirits|           126|\n",
      "|   alcohol|         white wines|            97|\n",
      "|    babies|    baby accessories|            22|\n",
      "|    babies| baby bath body care|            90|\n",
      "|    babies|   baby food formula|           606|\n",
      "|    babies|       diapers wipes|           151|\n",
      "|    bakery|     bakery desserts|           216|\n",
      "|    bakery|               bread|           505|\n",
      "|    bakery|    breakfast bakery|           201|\n",
      "|    bakery|          buns rolls|           171|\n",
      "|    bakery|tortillas flat bread|           220|\n",
      "| beverages|   cocoa drink mixes|           160|\n",
      "| beverages|              coffee|           547|\n",
      "| beverages|energy sports drinks|           237|\n",
      "| beverages|       juice nectars|           649|\n",
      "| beverages|        refrigerated|           570|\n",
      "+----------+--------------------+--------------+\n",
      "only showing top 20 rows\n",
      "\n"
     ]
    }
   ],
   "source": [
    "tt=sql.sql('select department,aisle,count( distinct product_name)as distinct_count from hey group by department,aisle order by department,aisle,distinct_count desc')"
   ]
  },
  {
   "cell_type": "code",
   "execution_count": null,
   "metadata": {
    "collapsed": true
   },
   "outputs": [],
   "source": [
    "logger.info(tt)"
   ]
  },
  {
   "cell_type": "markdown",
   "metadata": {},
   "source": [
    "# Get the Top 10 departments by orders counts"
   ]
  },
  {
   "cell_type": "code",
   "execution_count": 18,
   "metadata": {},
   "outputs": [
    {
     "name": "stdout",
     "output_type": "stream",
     "text": [
      "+------------+------------+\n",
      "|  department|Total_orders|\n",
      "+------------+------------+\n",
      "|        null|    56509607|\n",
      "|     alcohol|       85259|\n",
      "|      babies|      297191|\n",
      "|      bakery|      831727|\n",
      "|   beverages|     1954927|\n",
      "|   breakfast|      492407|\n",
      "|        bulk|       27455|\n",
      "|canned goods|      724702|\n",
      "|  dairy eggs|     3818365|\n",
      "|        deli|      748747|\n",
      "+------------+------------+\n",
      "only showing top 10 rows\n",
      "\n"
     ]
    }
   ],
   "source": [
    "ttt=sql.sql('select department,sum(order_number)as Total_orders from hey group by department order by department,Total_orders desc')"
   ]
  },
  {
   "cell_type": "code",
   "execution_count": null,
   "metadata": {
    "collapsed": true
   },
   "outputs": [],
   "source": [
    "logger.info(ttt)"
   ]
  },
  {
   "cell_type": "markdown",
   "metadata": {},
   "source": [
    "# List top 10 products ordered in the morning (6 AM to 11 AM) "
   ]
  },
  {
   "cell_type": "code",
   "execution_count": 19,
   "metadata": {
    "collapsed": true
   },
   "outputs": [],
   "source": [
    "nine=sql.sql('select product_name,order_hour_of_day,count(order_number)as Order_count from hey group by product_name,order_hour_of_day having order_hour_of_day > 6')"
   ]
  },
  {
   "cell_type": "code",
   "execution_count": 35,
   "metadata": {},
   "outputs": [
    {
     "name": "stdout",
     "output_type": "stream",
     "text": [
      "+--------------------+-----------------+-----------+\n",
      "|        product_name|order_hour_of_day|Order_count|\n",
      "+--------------------+-----------------+-----------+\n",
      "|              Banana|               14|       1563|\n",
      "|              Banana|               15|       1519|\n",
      "|              Banana|               10|       1503|\n",
      "|              Banana|               11|       1476|\n",
      "|              Banana|               16|       1467|\n",
      "|              Banana|               12|       1458|\n",
      "|              Banana|               13|       1453|\n",
      "|              Banana|                9|       1372|\n",
      "|Bag of Organic Ba...|               15|       1334|\n",
      "|              Banana|               17|       1318|\n",
      "|Bag of Organic Ba...|               14|       1302|\n",
      "|Bag of Organic Ba...|               16|       1285|\n",
      "|Bag of Organic Ba...|               10|       1221|\n",
      "|Bag of Organic Ba...|               13|       1218|\n",
      "|Bag of Organic Ba...|               11|       1193|\n",
      "|Bag of Organic Ba...|               12|       1176|\n",
      "|              Banana|               18|       1143|\n",
      "|Bag of Organic Ba...|                9|       1101|\n",
      "|Bag of Organic Ba...|               17|       1046|\n",
      "|              Banana|                8|       1025|\n",
      "+--------------------+-----------------+-----------+\n",
      "only showing top 20 rows\n",
      "\n"
     ]
    }
   ],
   "source": [
    "nine.sort(desc('Order_count'),'order_hour_of_day').filter(col('product_name').isNotNull())"
   ]
  },
  {
   "cell_type": "code",
   "execution_count": null,
   "metadata": {
    "collapsed": true
   },
   "outputs": [],
   "source": [
    "logger.info(nine)"
   ]
  },
  {
   "cell_type": "code",
   "execution_count": 14,
   "metadata": {},
   "outputs": [
    {
     "name": "stdout",
     "output_type": "stream",
     "text": [
      "+--------------------+---------+------------+\n",
      "|        product_name|order_dow|order_number|\n",
      "+--------------------+---------+------------+\n",
      "|Bag of Organic Ba...|        3|          32|\n",
      "|  Seedless Cucumbers|        3|          32|\n",
      "|   Organic Mandarins|        3|          32|\n",
      "|Organic Strawberries|        3|          32|\n",
      "|Versatile Stain R...|        3|          32|\n",
      "|    Pink Lady Apples|        3|          32|\n",
      "|Chicken Apple Sau...|        3|          32|\n",
      "|          Raw Shrimp|        3|          32|\n",
      "|       Cracked Wheat|        2|          31|\n",
      "|Organic Greek Who...|        2|          31|\n",
      "|       Navel Oranges|        2|          31|\n",
      "|             Spinach|        2|          31|\n",
      "|Original Patties ...|        2|          31|\n",
      "|Cinnamon Multigra...|        2|          31|\n",
      "|Chewy 25% Low Sug...|        2|          31|\n",
      "|Uncured Genoa Salami|        2|          31|\n",
      "|Natural Vanilla I...|        2|          31|\n",
      "|        Lemon Yogurt|        2|          31|\n",
      "|Strawberry Rhubar...|        2|          31|\n",
      "|              Garlic|        2|          31|\n",
      "+--------------------+---------+------------+\n",
      "only showing top 20 rows\n",
      "\n"
     ]
    }
   ],
   "source": [
    "final4.select('product_name','order_dow','order_number').filter(col('product_name').isNotNull()).show(20)"
   ]
  },
  {
   "cell_type": "markdown",
   "metadata": {},
   "source": [
    "# Do people usually reorder the same previous ordered products? "
   ]
  },
  {
   "cell_type": "code",
   "execution_count": 21,
   "metadata": {
    "collapsed": true
   },
   "outputs": [],
   "source": [
    "five_one=sql.sql('select user_id,days_since_prior_order,count(reordered) as Total_reordered from hey group by user_id,days_since_prior_order having days_since_prior_order = 1')"
   ]
  },
  {
   "cell_type": "code",
   "execution_count": 22,
   "metadata": {
    "collapsed": true
   },
   "outputs": [],
   "source": [
    "five_two=sql.sql('select user_id,count(order_number) as Total_ordered from hey group by user_id')"
   ]
  },
  {
   "cell_type": "code",
   "execution_count": 25,
   "metadata": {
    "collapsed": true
   },
   "outputs": [],
   "source": [
    "five_final=five_one.join(five_two,on=['user_id'],how='left_outer').sort(desc('Total_reordered'))"
   ]
  },
  {
   "cell_type": "code",
   "execution_count": 29,
   "metadata": {},
   "outputs": [
    {
     "data": {
      "text/plain": [
       "['user_id', 'days_since_prior_order', 'Total_reordered', 'Total_ordered']"
      ]
     },
     "execution_count": 29,
     "metadata": {},
     "output_type": "execute_result"
    }
   ],
   "source": [
    "five_final.columns"
   ]
  },
  {
   "cell_type": "code",
   "execution_count": 35,
   "metadata": {},
   "outputs": [
    {
     "name": "stdout",
     "output_type": "stream",
     "text": [
      "+-------+----------------------+---------------+-------------+----------------------+\n",
      "|user_id|days_since_prior_order|Total_reordered|Total_ordered|Percent of re-ordering|\n",
      "+-------+----------------------+---------------+-------------+----------------------+\n",
      "|  94096|                   1.0|             49|           52|    0.9423076923076923|\n",
      "| 191925|                   1.0|             44|           49|    0.8979591836734694|\n",
      "|  71369|                   1.0|             34|           38|    0.8947368421052632|\n",
      "|   2014|                   1.0|             24|           27|    0.8888888888888888|\n",
      "| 145937|                   1.0|             22|           25|                  0.88|\n",
      "| 186026|                   1.0|             50|           57|    0.8771929824561403|\n",
      "| 186069|                   1.0|             19|           22|    0.8636363636363636|\n",
      "|  86347|                   1.0|             19|           22|    0.8636363636363636|\n",
      "| 163823|                   1.0|             19|           22|    0.8636363636363636|\n",
      "|  10697|                   1.0|             24|           28|    0.8571428571428571|\n",
      "| 174964|                   1.0|             29|           34|    0.8529411764705882|\n",
      "|  30414|                   1.0|             17|           20|                  0.85|\n",
      "|  43105|                   1.0|             16|           19|    0.8421052631578947|\n",
      "| 135401|                   1.0|             16|           19|    0.8421052631578947|\n",
      "|  87545|                   1.0|             16|           19|    0.8421052631578947|\n",
      "| 164125|                   1.0|             16|           19|    0.8421052631578947|\n",
      "|  79640|                   1.0|             16|           19|    0.8421052631578947|\n",
      "|  10857|                   1.0|             32|           38|    0.8421052631578947|\n",
      "| 185933|                   1.0|             16|           19|    0.8421052631578947|\n",
      "| 122775|                   1.0|             16|           19|    0.8421052631578947|\n",
      "+-------+----------------------+---------------+-------------+----------------------+\n",
      "only showing top 20 rows\n",
      "\n"
     ]
    }
   ],
   "source": [
    "five_final.select('*',(five_final.Total_reordered/five_final.Total_ordered).alias('Percent of re-ordering')).sort(desc('Percent of re-ordering')).show()"
   ]
  },
  {
   "cell_type": "code",
   "execution_count": null,
   "metadata": {
    "collapsed": true
   },
   "outputs": [],
   "source": []
  }
 ],
 "metadata": {
  "kernelspec": {
   "display_name": "PySpark",
   "language": "python",
   "name": "pyspark"
  },
  "language_info": {
   "codemirror_mode": {
    "name": "ipython",
    "version": 2
   },
   "file_extension": ".py",
   "mimetype": "text/x-python",
   "name": "python",
   "nbconvert_exporter": "python",
   "pygments_lexer": "ipython2",
   "version": "2.7.14"
  }
 },
 "nbformat": 4,
 "nbformat_minor": 2
}
