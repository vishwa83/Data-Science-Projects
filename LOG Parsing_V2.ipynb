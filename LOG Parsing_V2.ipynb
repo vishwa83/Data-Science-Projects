{
 "cells": [
  {
   "cell_type": "code",
   "execution_count": 1,
   "metadata": {},
   "outputs": [],
   "source": [
    "import re\n",
    "import pandas as pd"
   ]
  },
  {
   "cell_type": "code",
   "execution_count": 2,
   "metadata": {},
   "outputs": [],
   "source": [
    "import re\n",
    "inputfile = open(\"C:\\\\Users\\\\ViswanathaKrishnamur\\\\ITCONSOLELOG.txt\")\n",
    "pattern=r'([\\d]{4}-[\\d]{2}-[\\d]{2} [\\d]{2}:[\\d]{2}:[\\d]{2}) INFO  CssrCardProvider:330 - com.ibm.ispw.service.endpoint.account.CssrCardProvider userDetails: \\[{\"client\":\\[\"(?P<BACID>[\\w\\d]{10}\",\"[\\w\\d]{10}\",\"[\\w\\d]{10}\",\"[\\w\\d]{10}\",\"[\\w\\d]{10}\",\"[\\w\\d]{10}\",\"[\\w\\d]{10}\")\\],\"role\":\\[\\],\"persona\":\\[\"(?P<persona>[\\w]{3})\"\\],\"_id\":\"([\\w\\d]+)\",\"user\":\"([\\w\\d]+@in.ibm.com)\",\"userName\":\"([\\w]+)\",\"defaultClient\":\"([\\w\\d]+)\",\"onboardStatus\":\"([\\w]+)\"'\n",
    "teststring = inputfile.read()\n",
    "values = re.findall(pattern, teststring)\n",
    "values\n",
    "\n",
    "c=pd.DataFrame(values)\n",
    "c.columns=['DATETIME','BACID','PERSONA','ID','USER','USERNAME','DEFAULT CLIENT','ONBOARDSTATUS']\n"
   ]
  },
  {
   "cell_type": "code",
   "execution_count": 19,
   "metadata": {},
   "outputs": [],
   "source": [
    "c.to_csv('C:\\\\Users\\\\ViswanathaKrishnamur\\\\My Documents\\\\SametimeFileTransfers\\\\logs2\\\\Log_Parsing.csv',encoding='UTF-8',index=False)"
   ]
  },
  {
   "cell_type": "code",
   "execution_count": 3,
   "metadata": {},
   "outputs": [
    {
     "data": {
      "text/plain": [
       "USERNAME\n",
       "Prathibha    10\n",
       "Vandana      14\n",
       "Name: DATETIME, dtype: int64"
      ]
     },
     "execution_count": 3,
     "metadata": {},
     "output_type": "execute_result"
    }
   ],
   "source": [
    "c.groupby('USERNAME')['DATETIME'].count()"
   ]
  },
  {
   "cell_type": "code",
   "execution_count": 7,
   "metadata": {},
   "outputs": [
    {
     "data": {
      "text/html": [
       "<div>\n",
       "<style scoped>\n",
       "    .dataframe tbody tr th:only-of-type {\n",
       "        vertical-align: middle;\n",
       "    }\n",
       "\n",
       "    .dataframe tbody tr th {\n",
       "        vertical-align: top;\n",
       "    }\n",
       "\n",
       "    .dataframe thead th {\n",
       "        text-align: right;\n",
       "    }\n",
       "</style>\n",
       "<table border=\"1\" class=\"dataframe\">\n",
       "  <thead>\n",
       "    <tr style=\"text-align: right;\">\n",
       "      <th></th>\n",
       "      <th>DATETIME</th>\n",
       "      <th>BACID</th>\n",
       "      <th>PERSONA</th>\n",
       "      <th>ID</th>\n",
       "      <th>USER</th>\n",
       "      <th>USERNAME</th>\n",
       "      <th>DEFAULT CLIENT</th>\n",
       "      <th>ONBOARDSTATUS</th>\n",
       "    </tr>\n",
       "  </thead>\n",
       "  <tbody>\n",
       "    <tr>\n",
       "      <th>0</th>\n",
       "      <td>2019-01-23 00:21:35</td>\n",
       "      <td>BAC0023444\",\"BAC0000FC0\",\"BAC0000CE0\",\"BAC0000...</td>\n",
       "      <td>dpe</td>\n",
       "      <td>5c471cd5ac996d52479ffacb</td>\n",
       "      <td>mprathib@in.ibm.com</td>\n",
       "      <td>Prathibha</td>\n",
       "      <td>BAC0000A14</td>\n",
       "      <td>active</td>\n",
       "    </tr>\n",
       "    <tr>\n",
       "      <th>1</th>\n",
       "      <td>2019-01-23 00:21:35</td>\n",
       "      <td>BAC0023444\",\"BAC0000FC0\",\"BAC0000CE0\",\"BAC0000...</td>\n",
       "      <td>dpe</td>\n",
       "      <td>5c471cd5ac996d52479ffacb</td>\n",
       "      <td>mprathib@in.ibm.com</td>\n",
       "      <td>Prathibha</td>\n",
       "      <td>BAC0000A14</td>\n",
       "      <td>active</td>\n",
       "    </tr>\n",
       "    <tr>\n",
       "      <th>2</th>\n",
       "      <td>2019-01-23 00:21:35</td>\n",
       "      <td>BAC0023444\",\"BAC0000FC0\",\"BAC0000CE0\",\"BAC0000...</td>\n",
       "      <td>dpe</td>\n",
       "      <td>5c471cd5ac996d52479ffacb</td>\n",
       "      <td>mprathib@in.ibm.com</td>\n",
       "      <td>Prathibha</td>\n",
       "      <td>BAC0000A14</td>\n",
       "      <td>active</td>\n",
       "    </tr>\n",
       "    <tr>\n",
       "      <th>3</th>\n",
       "      <td>2019-01-23 00:21:46</td>\n",
       "      <td>BAC0023444\",\"BAC0000FC0\",\"BAC0000CE0\",\"BAC0000...</td>\n",
       "      <td>dpe</td>\n",
       "      <td>5c471cd5ac996d52479ffacb</td>\n",
       "      <td>mprathib@in.ibm.com</td>\n",
       "      <td>Prathibha</td>\n",
       "      <td>BAC0000FC0</td>\n",
       "      <td>active</td>\n",
       "    </tr>\n",
       "    <tr>\n",
       "      <th>4</th>\n",
       "      <td>2019-01-23 00:21:56</td>\n",
       "      <td>BAC0023444\",\"BAC0000FC0\",\"BAC0000CE0\",\"BAC0000...</td>\n",
       "      <td>dpe</td>\n",
       "      <td>5c471cd5ac996d52479ffacb</td>\n",
       "      <td>mprathib@in.ibm.com</td>\n",
       "      <td>Prathibha</td>\n",
       "      <td>BAC0000FC0</td>\n",
       "      <td>active</td>\n",
       "    </tr>\n",
       "  </tbody>\n",
       "</table>\n",
       "</div>"
      ],
      "text/plain": [
       "              DATETIME                                              BACID  \\\n",
       "0  2019-01-23 00:21:35  BAC0023444\",\"BAC0000FC0\",\"BAC0000CE0\",\"BAC0000...   \n",
       "1  2019-01-23 00:21:35  BAC0023444\",\"BAC0000FC0\",\"BAC0000CE0\",\"BAC0000...   \n",
       "2  2019-01-23 00:21:35  BAC0023444\",\"BAC0000FC0\",\"BAC0000CE0\",\"BAC0000...   \n",
       "3  2019-01-23 00:21:46  BAC0023444\",\"BAC0000FC0\",\"BAC0000CE0\",\"BAC0000...   \n",
       "4  2019-01-23 00:21:56  BAC0023444\",\"BAC0000FC0\",\"BAC0000CE0\",\"BAC0000...   \n",
       "\n",
       "  PERSONA                        ID                 USER   USERNAME  \\\n",
       "0     dpe  5c471cd5ac996d52479ffacb  mprathib@in.ibm.com  Prathibha   \n",
       "1     dpe  5c471cd5ac996d52479ffacb  mprathib@in.ibm.com  Prathibha   \n",
       "2     dpe  5c471cd5ac996d52479ffacb  mprathib@in.ibm.com  Prathibha   \n",
       "3     dpe  5c471cd5ac996d52479ffacb  mprathib@in.ibm.com  Prathibha   \n",
       "4     dpe  5c471cd5ac996d52479ffacb  mprathib@in.ibm.com  Prathibha   \n",
       "\n",
       "  DEFAULT CLIENT ONBOARDSTATUS  \n",
       "0     BAC0000A14        active  \n",
       "1     BAC0000A14        active  \n",
       "2     BAC0000A14        active  \n",
       "3     BAC0000FC0        active  \n",
       "4     BAC0000FC0        active  "
      ]
     },
     "execution_count": 7,
     "metadata": {},
     "output_type": "execute_result"
    }
   ],
   "source": [
    "c.head(5)"
   ]
  },
  {
   "cell_type": "code",
   "execution_count": null,
   "metadata": {},
   "outputs": [],
   "source": []
  }
 ],
 "metadata": {
  "kernelspec": {
   "display_name": "Python 3",
   "language": "python",
   "name": "python3"
  },
  "language_info": {
   "codemirror_mode": {
    "name": "ipython",
    "version": 3
   },
   "file_extension": ".py",
   "mimetype": "text/x-python",
   "name": "python",
   "nbconvert_exporter": "python",
   "pygments_lexer": "ipython3",
   "version": "3.6.5"
  }
 },
 "nbformat": 4,
 "nbformat_minor": 2
}
