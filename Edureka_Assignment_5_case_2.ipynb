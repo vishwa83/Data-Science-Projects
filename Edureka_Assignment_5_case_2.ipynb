{
 "cells": [
  {
   "cell_type": "code",
   "execution_count": 13,
   "metadata": {
    "collapsed": true
   },
   "outputs": [],
   "source": [
    "import os\n",
    "from pyspark import SparkContext,SparkConf\n",
    "from pyspark.sql import SQLContext,Row\n",
    "from pyspark.sql.functions import col,split,regexp_extract\n",
    "import re\n",
    "import logging"
   ]
  },
  {
   "cell_type": "code",
   "execution_count": 25,
   "metadata": {},
   "outputs": [],
   "source": [
    "logger=logging.getLogger(__name__)\n",
    "logger.setLevel(logging.INFO)\n",
    "formatter = logging.Formatter('%(asctime)s:%(created)f:%(filename)s:%(message)s:%(message)s')\n",
    "file_handler=logging.FileHandler('log_analysis.txt')\n",
    "file_handler.setLevel(logging.INFO)\n",
    "file_handler.setFormatter(formatter)"
   ]
  },
  {
   "cell_type": "code",
   "execution_count": 15,
   "metadata": {
    "collapsed": true
   },
   "outputs": [],
   "source": [
    "conf=SparkConf().setAppName('e5')\n",
    "sc=SparkContext(conf=conf)"
   ]
  },
  {
   "cell_type": "code",
   "execution_count": 16,
   "metadata": {},
   "outputs": [],
   "source": [
    "sql=SQLContext(sc)"
   ]
  },
  {
   "cell_type": "code",
   "execution_count": 17,
   "metadata": {
    "collapsed": true
   },
   "outputs": [],
   "source": [
    "log=sql.read.text('hdfs://nameservice1/user/edureka_37986/access_old.txt')"
   ]
  },
  {
   "cell_type": "code",
   "execution_count": 18,
   "metadata": {
    "collapsed": true
   },
   "outputs": [],
   "source": [
    "split_df=log.select(regexp_extract('value',r'(\\d.*) - -',1).alias('host'),\n",
    "                    regexp_extract('value',r' - - \\[([0-9]{2}/[A-Z][a-z]{2}/[0-9]{4})',1).alias('date'),\n",
    "                   regexp_extract('value',r'HTTP/[0-9]{1}.[0-9]{1} ([0-9]{3}) [0-9]{1,5} ',1).alias('status'),\n",
    "                   regexp_extract('value',r' HTTP/[0-9]{1}.[0-9]{1} [0-9]{3} ([0-9]{1,5}) ',1).alias('fourth'),\n",
    "                   regexp_extract('value',r'(http://[A-Za-z-.]+)',1).alias('url'))"
   ]
  },
  {
   "cell_type": "code",
   "execution_count": 28,
   "metadata": {},
   "outputs": [
    {
     "name": "stdout",
     "output_type": "stream",
     "text": [
      "+---------------+-----------+------+------+-------------------------+\n",
      "|host           |date       |status|fourth|url                      |\n",
      "+---------------+-----------+------+------+-------------------------+\n",
      "|109.169.248.247|12/Dec/2015|200   |4263  |                         |\n",
      "|109.169.248.247|12/Dec/2015|200   |4494  |http://almhuette-raith.at|\n",
      "|46.72.177.4    |12/Dec/2015|200   |4263  |                         |\n",
      "|46.72.177.4    |12/Dec/2015|200   |4494  |http://almhuette-raith.at|\n",
      "|83.167.113.100 |12/Dec/2015|200   |4263  |                         |\n",
      "|83.167.113.100 |12/Dec/2015|200   |4494  |http://almhuette-raith.at|\n",
      "|95.29.198.15   |12/Dec/2015|200   |4263  |                         |\n",
      "|95.29.198.15   |12/Dec/2015|200   |4494  |http://almhuette-raith.at|\n",
      "|109.184.11.34  |12/Dec/2015|200   |4263  |                         |\n",
      "|109.184.11.34  |12/Dec/2015|200   |4494  |http://almhuette-raith.at|\n",
      "|91.227.29.79   |12/Dec/2015|200   |4263  |                         |\n",
      "|91.227.29.79   |12/Dec/2015|200   |4494  |http://almhuette-raith.at|\n",
      "|90.154.66.233  |12/Dec/2015|200   |4263  |                         |\n",
      "|90.154.66.233  |12/Dec/2015|200   |4494  |http://almhuette-raith.at|\n",
      "|95.140.24.131  |12/Dec/2015|200   |4263  |                         |\n",
      "|95.140.24.131  |12/Dec/2015|200   |4494  |http://almhuette-raith.at|\n",
      "|95.188.245.16  |12/Dec/2015|200   |4263  |                         |\n",
      "|95.188.245.16  |12/Dec/2015|200   |4494  |http://almhuette-raith.at|\n",
      "|46.72.213.133  |12/Dec/2015|200   |4263  |                         |\n",
      "|46.72.213.133  |12/Dec/2015|200   |4494  |http://almhuette-raith.at|\n",
      "+---------------+-----------+------+------+-------------------------+\n",
      "only showing top 20 rows\n",
      "\n"
     ]
    }
   ],
   "source": [
    "split_df.show(20,truncate=False)"
   ]
  },
  {
   "cell_type": "code",
   "execution_count": 19,
   "metadata": {},
   "outputs": [
    {
     "data": {
      "text/plain": [
       "DataFrame[host: string, date: string, status: string, fourth: string, url: string]"
      ]
     },
     "execution_count": 19,
     "metadata": {},
     "output_type": "execute_result"
    }
   ],
   "source": [
    "split_df.cache()"
   ]
  },
  {
   "cell_type": "code",
   "execution_count": 35,
   "metadata": {},
   "outputs": [
    {
     "data": {
      "text/plain": [
       "['host', 'date', 'status', 'fourth', 'url']"
      ]
     },
     "execution_count": 35,
     "metadata": {},
     "output_type": "execute_result"
    }
   ],
   "source": [
    "split_df.columns"
   ]
  },
  {
   "cell_type": "code",
   "execution_count": 37,
   "metadata": {
    "collapsed": true
   },
   "outputs": [],
   "source": [
    "bad_rows=split_df.filter(split_df['host'].isNull()|split_df['date'].isNull()|split_df['status'].isNull()|split_df['fourth'].isNull()|split_df['url'].isNull())"
   ]
  },
  {
   "cell_type": "code",
   "execution_count": 38,
   "metadata": {},
   "outputs": [
    {
     "data": {
      "text/plain": [
       "0"
      ]
     },
     "execution_count": 38,
     "metadata": {},
     "output_type": "execute_result"
    }
   ],
   "source": [
    "bad_rows.count()"
   ]
  },
  {
   "cell_type": "code",
   "execution_count": 20,
   "metadata": {
    "collapsed": true
   },
   "outputs": [],
   "source": [
    "one=split_df.na.fill({'host':'unknown','date':'unknown','status':'unknown','fourth':'unknown','url':'unknown'})"
   ]
  },
  {
   "cell_type": "markdown",
   "metadata": {},
   "source": [
    "# Find out how many 404 HTTP codes are in access logs"
   ]
  },
  {
   "cell_type": "code",
   "execution_count": 21,
   "metadata": {
    "collapsed": true
   },
   "outputs": [],
   "source": [
    "one.registerTempTable('play')"
   ]
  },
  {
   "cell_type": "code",
   "execution_count": 29,
   "metadata": {
    "collapsed": true
   },
   "outputs": [],
   "source": [
    "p1=sql.sql('select status,count(status)as Count from play group by status having status == \"404\" ')"
   ]
  },
  {
   "cell_type": "code",
   "execution_count": 30,
   "metadata": {},
   "outputs": [],
   "source": [
    "logger.info(p1)"
   ]
  },
  {
   "cell_type": "code",
   "execution_count": 31,
   "metadata": {},
   "outputs": [
    {
     "name": "stdout",
     "output_type": "stream",
     "text": [
      "+------+------+\n",
      "|status|Count |\n",
      "+------+------+\n",
      "|404   |137767|\n",
      "+------+------+\n",
      "\n"
     ]
    }
   ],
   "source": [
    "p1.show(10,truncate=False)"
   ]
  },
  {
   "cell_type": "markdown",
   "metadata": {
    "collapsed": true
   },
   "source": [
    "# Find out which URLs are broke"
   ]
  },
  {
   "cell_type": "code",
   "execution_count": 32,
   "metadata": {
    "collapsed": true
   },
   "outputs": [],
   "source": [
    "p2=sql.sql('select distinct url from play where status ==\"404\"')"
   ]
  },
  {
   "cell_type": "code",
   "execution_count": 33,
   "metadata": {
    "collapsed": true
   },
   "outputs": [],
   "source": [
    "logger.info(p2)"
   ]
  },
  {
   "cell_type": "code",
   "execution_count": 46,
   "metadata": {},
   "outputs": [
    {
     "name": "stdout",
     "output_type": "stream",
     "text": [
      "+-------------------------------+\n",
      "|url                            |\n",
      "+-------------------------------+\n",
      "|http://www.pluscolleg.de       |\n",
      "|http://www.federacia.by        |\n",
      "|http://www.semrush.com         |\n",
      "|http://www.rinkebyfolketshus.se|\n",
      "|http://www.                    |\n",
      "|http://www.bing.com            |\n",
      "|http://vsmart-extensions.com   |\n",
      "|http://www.googlebot.com       |\n",
      "|http://www.wimvandiem.nl       |\n",
      "|http://github.com              |\n",
      "+-------------------------------+\n",
      "only showing top 10 rows\n",
      "\n"
     ]
    }
   ],
   "source": [
    "p2.show(10,truncate=False)"
   ]
  },
  {
   "cell_type": "markdown",
   "metadata": {},
   "source": [
    "# Describe which HTTP status values appear in data and how many"
   ]
  },
  {
   "cell_type": "code",
   "execution_count": 34,
   "metadata": {
    "collapsed": true
   },
   "outputs": [],
   "source": [
    "p3=sql.sql('select distinct status,count(status)as Frequency from play group by status order by frequency desc')"
   ]
  },
  {
   "cell_type": "code",
   "execution_count": 35,
   "metadata": {
    "collapsed": true
   },
   "outputs": [],
   "source": [
    "logger.info(p3)"
   ]
  },
  {
   "cell_type": "code",
   "execution_count": 55,
   "metadata": {},
   "outputs": [
    {
     "name": "stdout",
     "output_type": "stream",
     "text": [
      "+------+---------+\n",
      "|status|Frequency|\n",
      "+------+---------+\n",
      "|200   |1041039  |\n",
      "|206   |474352   |\n",
      "|404   |137767   |\n",
      "|      |64071    |\n",
      "+------+---------+\n",
      "only showing top 4 rows\n",
      "\n"
     ]
    }
   ],
   "source": [
    "p3.show(4,truncate=False)"
   ]
  },
  {
   "cell_type": "code",
   "execution_count": null,
   "metadata": {
    "collapsed": true
   },
   "outputs": [],
   "source": []
  }
 ],
 "metadata": {
  "kernelspec": {
   "display_name": "PySpark",
   "language": "python",
   "name": "pyspark"
  },
  "language_info": {
   "codemirror_mode": {
    "name": "ipython",
    "version": 2
   },
   "file_extension": ".py",
   "mimetype": "text/x-python",
   "name": "python",
   "nbconvert_exporter": "python",
   "pygments_lexer": "ipython2",
   "version": "2.7.14"
  }
 },
 "nbformat": 4,
 "nbformat_minor": 2
}
