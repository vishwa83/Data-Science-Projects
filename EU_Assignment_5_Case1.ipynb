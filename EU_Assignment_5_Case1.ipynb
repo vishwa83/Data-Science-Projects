{
 "cells": [
  {
   "cell_type": "code",
   "execution_count": 37,
   "metadata": {
    "collapsed": true
   },
   "outputs": [],
   "source": [
    "from pyspark import SparkContext,SparkConf\n",
    "from pyspark.sql import SQLContext\n",
    "from pyspark.sql.functions import split,regexp_extract,col,when,desc\n",
    "import logging"
   ]
  },
  {
   "cell_type": "code",
   "execution_count": 38,
   "metadata": {
    "collapsed": true
   },
   "outputs": [],
   "source": [
    "logger=logging.getLogger(__name__)\n",
    "logger.setLevel(logging.INFO)\n",
    "formatter=logging.Formatter('%(asctime)s:%(created)f:%(filename)s:%(message)s:%(message)s')\n",
    "file_handler=logging.FileHandler('EU5_case1.log')\n",
    "file_handler.setLevel(logging.INFO)\n",
    "file_handler.setFormatter(formatter)"
   ]
  },
  {
   "cell_type": "code",
   "execution_count": 41,
   "metadata": {},
   "outputs": [],
   "source": [
    "conf=SparkConf().setAppName('apple')\n",
    "sc=SparkContext(conf=conf)\n",
    "sql=SQLContext(sc)"
   ]
  },
  {
   "cell_type": "markdown",
   "metadata": {},
   "source": [
    "# Read csv file into sparkdataframe"
   ]
  },
  {
   "cell_type": "code",
   "execution_count": 42,
   "metadata": {
    "collapsed": true
   },
   "outputs": [],
   "source": [
    "two=sql.read.options(header=True,inferschema=True).csv('hdfs://nameservice1/user/edureka_37986/AppleStore.csv')"
   ]
  },
  {
   "cell_type": "markdown",
   "metadata": {},
   "source": [
    "# Convert mb into GB"
   ]
  },
  {
   "cell_type": "code",
   "execution_count": 43,
   "metadata": {
    "collapsed": true
   },
   "outputs": [],
   "source": [
    "three=two.withColumn('GB',(two.size_bytes/1000))"
   ]
  },
  {
   "cell_type": "markdown",
   "metadata": {},
   "source": [
    "# rename columns to remove dot"
   ]
  },
  {
   "cell_type": "code",
   "execution_count": 44,
   "metadata": {
    "collapsed": true
   },
   "outputs": [],
   "source": [
    "three=three.withColumnRenamed('lang.num','language_number').withColumnRenamed('sup_devices.num','sup_devices_number').withColumnRenamed('ipadSc_urls.num','ipadSc_urls_num')"
   ]
  },
  {
   "cell_type": "code",
   "execution_count": 54,
   "metadata": {},
   "outputs": [],
   "source": [
    "three=three.withColumn('lang_flag',when(col('language_number') >=1,1).otherwise(0))\n",
    "three=three.withColumn('user_flag',when(col('user_rating')>=3,'High rated').otherwise('Low rated'))"
   ]
  },
  {
   "cell_type": "markdown",
   "metadata": {},
   "source": [
    "# List top 10 apps"
   ]
  },
  {
   "cell_type": "code",
   "execution_count": 58,
   "metadata": {
    "collapsed": true
   },
   "outputs": [],
   "source": [
    "three.registerTempTable('t')"
   ]
  },
  {
   "cell_type": "code",
   "execution_count": 46,
   "metadata": {
    "collapsed": true
   },
   "outputs": [],
   "source": [
    "t2=sql.sql('select track_name,user_rating,sup_devices_number from t order by user_rating desc')"
   ]
  },
  {
   "cell_type": "code",
   "execution_count": 35,
   "metadata": {},
   "outputs": [
    {
     "name": "stdout",
     "output_type": "stream",
     "text": [
      "+----------------------------------------------------------------------------------+-----------+------------------+\n",
      "|track_name                                                                        |user_rating|sup_devices_number|\n",
      "+----------------------------------------------------------------------------------+-----------+------------------+\n",
      "|King of Dragon Pass                                                               |5.0        |43                |\n",
      "|Learn English quickly with MosaLingua                                             |5.0        |38                |\n",
      "|TurboScan™ Pro - document & receipt scanner: scan multiple pages and photos to PDF|5.0        |38                |\n",
      "|The Photographer's Ephemeris                                                      |5.0        |37                |\n",
      "|▻Sudoku +                                                                         |5.0        |40                |\n",
      "|:) Sudoku +                                                                       |5.0        |40                |\n",
      "|Flashlight Ⓞ                                                                      |5.0        |40                |\n",
      "|Learn to Speak Spanish Fast With MosaLingua                                       |5.0        |38                |\n",
      "|Infinity Blade                                                                    |5.0        |43                |\n",
      "|Zappos: shop shoes & clothes, fast free shipping                                  |5.0        |37                |\n",
      "+----------------------------------------------------------------------------------+-----------+------------------+\n",
      "only showing top 10 rows\n",
      "\n"
     ]
    }
   ],
   "source": [
    "t2.show(10,truncate=False)"
   ]
  },
  {
   "cell_type": "markdown",
   "metadata": {},
   "source": [
    "# The difference in the average number of screenshots displayed of highest and lowest rating apps - ## i have counted the instances as i didnt find the variable for screenshots"
   ]
  },
  {
   "cell_type": "code",
   "execution_count": 59,
   "metadata": {},
   "outputs": [],
   "source": [
    "t3=sql.sql('select user_flag,count(*)as count from t group by user_flag')"
   ]
  },
  {
   "cell_type": "code",
   "execution_count": 60,
   "metadata": {},
   "outputs": [
    {
     "name": "stdout",
     "output_type": "stream",
     "text": [
      "+----------+-----+\n",
      "| user_flag|count|\n",
      "+----------+-----+\n",
      "|High rated| 5866|\n",
      "| Low rated| 1331|\n",
      "+----------+-----+\n",
      "\n"
     ]
    }
   ],
   "source": [
    "t3.show(5)"
   ]
  },
  {
   "cell_type": "markdown",
   "metadata": {},
   "source": [
    "# What percentage of high rated apps support multiple languages"
   ]
  },
  {
   "cell_type": "code",
   "execution_count": 74,
   "metadata": {
    "collapsed": true
   },
   "outputs": [],
   "source": [
    "t4=sql.sql('select track_name,(sum(lang_flag)/count(user_flag)*100) as percent from t group by track_name order by percent desc')"
   ]
  },
  {
   "cell_type": "code",
   "execution_count": 75,
   "metadata": {},
   "outputs": [
    {
     "name": "stdout",
     "output_type": "stream",
     "text": [
      "+--------------------------------------------------------------------+-------+\n",
      "|track_name                                                          |percent|\n",
      "+--------------------------------------------------------------------+-------+\n",
      "|Talking Tom Cat for iPad                                            |100.0  |\n",
      "|Catan HD                                                            |100.0  |\n",
      "|Racing Penguin Free - Top Flying and Diving Game                    |100.0  |\n",
      "|Poshmark: Buy & Sell Fashion                                        |100.0  |\n",
      "|Mystery Case Files: 13th Skull HD - A Hidden Object Adventure (Full)|100.0  |\n",
      "|Offroad Legends                                                     |100.0  |\n",
      "|聚美优品-新用户专享160元现金券                                                   |100.0  |\n",
      "|Stick Texting Emoji Emoticons Killer                                |100.0  |\n",
      "|100 PICS Quiz - guess the picture trivia games                      |100.0  |\n",
      "|Red－shop the world                                                  |100.0  |\n",
      "+--------------------------------------------------------------------+-------+\n",
      "only showing top 10 rows\n",
      "\n"
     ]
    }
   ],
   "source": [
    "t4.show(10,truncate=False)"
   ]
  },
  {
   "cell_type": "code",
   "execution_count": null,
   "metadata": {
    "collapsed": true
   },
   "outputs": [],
   "source": []
  }
 ],
 "metadata": {
  "kernelspec": {
   "display_name": "Python 3",
   "language": "python",
   "name": "python3"
  },
  "language_info": {
   "codemirror_mode": {
    "name": "ipython",
    "version": 3
   },
   "file_extension": ".py",
   "mimetype": "text/x-python",
   "name": "python",
   "nbconvert_exporter": "python",
   "pygments_lexer": "ipython3",
   "version": "3.6.5"
  }
 },
 "nbformat": 4,
 "nbformat_minor": 2
}
