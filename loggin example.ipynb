{
 "cells": [
  {
   "cell_type": "code",
   "execution_count": 14,
   "metadata": {},
   "outputs": [],
   "source": [
    "import logging\n",
    "\n",
    "class log:\n",
    "    def __init__(self):\n",
    "        logger=logging.getLogger(__name__)\n",
    "        logger.setLevel(logging.INFO)\n",
    "        formatter = logging.Formatter('%(asctime)s:%(created)f:%(filename)s:%(message)s:%(message)s')\n",
    "        file_handler=logging.FileHandler('C:/Users/ViswanathaKrishnamur/Desktop/Normalization/acme.log')\n",
    "        file_handler.setLevel(logging.INFO)\n",
    "        file_handler.setFormatter(formatter)\n",
    "        \n",
    "\n",
    "text='welcome to edureka'.split(' ')\n",
    "text\n",
    "\n",
    "logger.addHandler(file_handler)\n",
    "\n",
    "logger.info('hello world')\n",
    "logger.info('checking')"
   ]
  },
  {
   "cell_type": "code",
   "execution_count": 15,
   "metadata": {},
   "outputs": [],
   "source": [
    "logger.info('hey you')"
   ]
  },
  {
   "cell_type": "code",
   "execution_count": null,
   "metadata": {},
   "outputs": [],
   "source": []
  },
  {
   "cell_type": "code",
   "execution_count": null,
   "metadata": {},
   "outputs": [],
   "source": []
  }
 ],
 "metadata": {
  "kernelspec": {
   "display_name": "Python 3",
   "language": "python",
   "name": "python3"
  },
  "language_info": {
   "codemirror_mode": {
    "name": "ipython",
    "version": 3
   },
   "file_extension": ".py",
   "mimetype": "text/x-python",
   "name": "python",
   "nbconvert_exporter": "python",
   "pygments_lexer": "ipython3",
   "version": "3.6.5"
  }
 },
 "nbformat": 4,
 "nbformat_minor": 2
}
