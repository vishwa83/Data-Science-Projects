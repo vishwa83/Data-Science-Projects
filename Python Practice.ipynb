{
 "cells": [
  {
   "cell_type": "code",
   "execution_count": 1,
   "metadata": {},
   "outputs": [
    {
     "name": "stdout",
     "output_type": "stream",
     "text": [
      "please enter the number:   20\n"
     ]
    }
   ],
   "source": [
    "te=int(input('please enter the number:   '))"
   ]
  },
  {
   "cell_type": "code",
   "execution_count": 3,
   "metadata": {},
   "outputs": [
    {
     "name": "stdout",
     "output_type": "stream",
     "text": [
      "[54, 243, 67, 76, 89, 54]\n"
     ]
    }
   ],
   "source": [
    "first=[1,3,54,243,67,76,89,54,12,4]\n",
    "print([a for a in first if a>te ])"
   ]
  },
  {
   "cell_type": "code",
   "execution_count": 9,
   "metadata": {},
   "outputs": [
    {
     "data": {
      "text/plain": [
       "range(1, 100)"
      ]
     },
     "execution_count": 9,
     "metadata": {},
     "output_type": "execute_result"
    }
   ],
   "source": [
    "divi=range(1,100)\n",
    "divi"
   ]
  },
  {
   "cell_type": "code",
   "execution_count": 15,
   "metadata": {},
   "outputs": [
    {
     "name": "stdout",
     "output_type": "stream",
     "text": [
      "please input your number:  12\n",
      "[12, 24, 36, 48, 60, 72, 84, 96]\n"
     ]
    }
   ],
   "source": [
    "ui=int(input('please input your number:  '))\n",
    "second=[]\n",
    "for i in divi:\n",
    "    if (i%ui)==0:\n",
    "        second.append(i)\n",
    "print(second)"
   ]
  },
  {
   "cell_type": "markdown",
   "metadata": {},
   "source": [
    "# Create a program that asks the user to enter their name and their age. Print out a message addressed to them that tells them the year that they will turn 100 years old\n"
   ]
  },
  {
   "cell_type": "code",
   "execution_count": 27,
   "metadata": {},
   "outputs": [
    {
     "name": "stdout",
     "output_type": "stream",
     "text": [
      "please enter you name:   vishwa\n",
      "please enter you age:   43\n",
      "You will be of 100 year old in2075\n"
     ]
    }
   ],
   "source": [
    "import datetime\n",
    "now=datetime.datetime.now()\n",
    "name=input('please enter you name:   ')\n",
    "age=int(input('please enter you age:   '))\n",
    "comp=int((100-age))\n",
    "if comp >0:\n",
    "    print('You will be of 100 year old in' + str(now.year+comp))\n",
    "else:\n",
    "    print('You already are of 100 years old')"
   ]
  },
  {
   "cell_type": "markdown",
   "metadata": {},
   "source": [
    "        #Ask the user for a number. Depending on whether the number is even or odd, print out an appropriate message to the user. Hint: how does an even / odd number react differently when divided by 2?\n"
   ]
  },
  {
   "cell_type": "code",
   "execution_count": 30,
   "metadata": {},
   "outputs": [
    {
     "name": "stdout",
     "output_type": "stream",
     "text": [
      "please key in a number:   568\n",
      "This is an even number\n"
     ]
    }
   ],
   "source": [
    "num=int(input('please key in a number:   '))\n",
    "if num%2==0:\n",
    "    print('This is an even number')\n",
    "else:\n",
    "    print('This is an odd number')"
   ]
  },
  {
   "cell_type": "markdown",
   "metadata": {},
   "source": [
    "#Take two lists, say for example these two:\n",
    "\n",
    "  a = [1, 1, 2, 3, 5, 8, 13, 21, 34, 55, 89]\n",
    "  b = [1, 2, 3, 4, 5, 6, 7, 8, 9, 10, 11, 12, 13]\n",
    "\n",
    "and write a program that returns a list that contains only the elements that are common between the lists (without duplicates). Make sure your program works on two lists of different sizes.\n"
   ]
  },
  {
   "cell_type": "code",
   "execution_count": 37,
   "metadata": {},
   "outputs": [
    {
     "name": "stdout",
     "output_type": "stream",
     "text": [
      "{1, 2, 3, 22}\n"
     ]
    }
   ],
   "source": [
    "a=[1,2,3,4,5,6,5,6,7,8,2,2,2,22,]\n",
    "b=[23,4,5,6,7,8,9,10,4,4,4,4,5,5,5,7,8,9,10,4,65,678,90]\n",
    "c=[]\n",
    "for a in a:\n",
    "    if a not in b:\n",
    "        c.append(a)\n",
    "print(set(c))"
   ]
  },
  {
   "cell_type": "code",
   "execution_count": null,
   "metadata": {},
   "outputs": [],
   "source": []
  }
 ],
 "metadata": {
  "kernelspec": {
   "display_name": "Python 3",
   "language": "python",
   "name": "python3"
  },
  "language_info": {
   "codemirror_mode": {
    "name": "ipython",
    "version": 3
   },
   "file_extension": ".py",
   "mimetype": "text/x-python",
   "name": "python",
   "nbconvert_exporter": "python",
   "pygments_lexer": "ipython3",
   "version": "3.6.5"
  }
 },
 "nbformat": 4,
 "nbformat_minor": 2
}
