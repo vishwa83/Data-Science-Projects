{
 "cells": [
  {
   "cell_type": "code",
   "execution_count": 45,
   "metadata": {},
   "outputs": [],
   "source": [
    "from bs4 import BeautifulSoup\n",
    "from requests import get\n",
    "import pandas as pd\n",
    "from time import sleep\n",
    "from random import randint\n",
    "from time import time\n",
    "from warnings import warn\n",
    "from IPython.core.display import clear_output\n",
    "\n"
   ]
  },
  {
   "cell_type": "code",
   "execution_count": 46,
   "metadata": {},
   "outputs": [],
   "source": [
    "names=[]\n",
    "years=[]\n",
    "genres=[]\n",
    "votes=[]\n",
    "\n",
    "headers={'Accept-Language':'en-us,en;q=0.5'}\n"
   ]
  },
  {
   "cell_type": "code",
   "execution_count": 47,
   "metadata": {},
   "outputs": [],
   "source": [
    "start_time=time()\n",
    "requests=0\n"
   ]
  },
  {
   "cell_type": "code",
   "execution_count": 48,
   "metadata": {},
   "outputs": [],
   "source": [
    "pages=[str(i) for i in range(0,100)]\n",
    "j=50"
   ]
  },
  {
   "cell_type": "code",
   "execution_count": 49,
   "metadata": {},
   "outputs": [],
   "source": [
    "start_date='2017-01-01'\n",
    "end_date='2018-12-31'"
   ]
  },
  {
   "cell_type": "code",
   "execution_count": 52,
   "metadata": {},
   "outputs": [
    {
     "name": "stdout",
     "output_type": "stream",
     "text": [
      "Empty DataFrame\n",
      "Columns: [movie, year]\n",
      "Index: []\n"
     ]
    },
    {
     "data": {
      "text/html": [
       "<div>\n",
       "<style scoped>\n",
       "    .dataframe tbody tr th:only-of-type {\n",
       "        vertical-align: middle;\n",
       "    }\n",
       "\n",
       "    .dataframe tbody tr th {\n",
       "        vertical-align: top;\n",
       "    }\n",
       "\n",
       "    .dataframe thead th {\n",
       "        text-align: right;\n",
       "    }\n",
       "</style>\n",
       "<table border=\"1\" class=\"dataframe\">\n",
       "  <thead>\n",
       "    <tr style=\"text-align: right;\">\n",
       "      <th></th>\n",
       "      <th>movie</th>\n",
       "      <th>year</th>\n",
       "    </tr>\n",
       "  </thead>\n",
       "  <tbody>\n",
       "  </tbody>\n",
       "</table>\n",
       "</div>"
      ],
      "text/plain": [
       "Empty DataFrame\n",
       "Columns: [movie, year]\n",
       "Index: []"
      ]
     },
     "execution_count": 52,
     "metadata": {},
     "output_type": "execute_result"
    }
   ],
   "source": [
    "for page in pages:\n",
    "    page=str(int(page) *j+1)\n",
    "    response=get('https://www.imdb.com/search/title?release_date='+start_date+','+end_date+'&languages=ta&start='+page,headers=headers)\n",
    "    sleep(randint(8,15))\n",
    "    requests +=1\n",
    "    elapsed_time= time() - start_time\n",
    "    print('request:{};Frequency: {} requests/s'.format(requests,requests/elapsed_time))\n",
    "    clear_output(wait=True)\n",
    "    if requests > 72:\n",
    "        warn('number of requests was greater than expected.')\n",
    "        break\n",
    "    page_html = BeautifulSoup(response.text,'html.parser')\n",
    "    mv_containers=page_html.find_all('div',class_='listen-item mode-advanced')\n",
    "    if(len(list(mv_containers))==0):\n",
    "        break\n",
    "    for container in mv_containers:\n",
    "        if container.find('div') is not None:\n",
    "            name=container.h3.a.text\n",
    "            names.append(name)\n",
    "            year=container.h3.find('span',class_='listen-item-year').text\n",
    "            years.append(year)\n",
    "\n",
    "movie_ratings=pd.DataFrame({'movie':names,'year':years})\n",
    "movie_ratings.drop_duplicates()\n",
    "\n",
    "print(movie_ratings)\n",
    "movie_ratings.head(len(list(movie_ratings)))"
   ]
  },
  {
   "cell_type": "code",
   "execution_count": 30,
   "metadata": {},
   "outputs": [],
   "source": []
  },
  {
   "cell_type": "code",
   "execution_count": null,
   "metadata": {},
   "outputs": [],
   "source": []
  }
 ],
 "metadata": {
  "kernelspec": {
   "display_name": "Python 3",
   "language": "python",
   "name": "python3"
  },
  "language_info": {
   "codemirror_mode": {
    "name": "ipython",
    "version": 3
   },
   "file_extension": ".py",
   "mimetype": "text/x-python",
   "name": "python",
   "nbconvert_exporter": "python",
   "pygments_lexer": "ipython3",
   "version": "3.6.5"
  }
 },
 "nbformat": 4,
 "nbformat_minor": 2
}
